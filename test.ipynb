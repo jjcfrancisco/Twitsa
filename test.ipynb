{
 "metadata": {
  "language_info": {
   "codemirror_mode": {
    "name": "ipython",
    "version": 3
   },
   "file_extension": ".py",
   "mimetype": "text/x-python",
   "name": "python",
   "nbconvert_exporter": "python",
   "pygments_lexer": "ipython3",
   "version": "3.9.2"
  },
  "orig_nbformat": 2,
  "kernelspec": {
   "name": "python392jvsc74a57bd095ec9ec1504d83f612128e0fb229072f90bbb4cb09d9d5d93b5dd26e0ca2cfd1",
   "display_name": "Python 3.9.2 64-bit ('base': conda)"
  },
  "metadata": {
   "interpreter": {
    "hash": "95ec9ec1504d83f612128e0fb229072f90bbb4cb09d9d5d93b5dd26e0ca2cfd1"
   }
  }
 },
 "nbformat": 4,
 "nbformat_minor": 2,
 "cells": [
  {
   "cell_type": "code",
   "execution_count": 4,
   "metadata": {},
   "outputs": [
    {
     "output_type": "stream",
     "name": "stdout",
     "text": [
      "[54.5968, -5.9254]\n"
     ]
    }
   ],
   "source": [
    "import geocoder\n",
    "g = geocoder.ip('me')\n",
    "print(g.latlng)"
   ]
  },
  {
   "cell_type": "code",
   "execution_count": 25,
   "metadata": {},
   "outputs": [],
   "source": [
    "def getLocation():\n",
    "    g = geocoder.ip('me')\n",
    "    latlon = g.latlng\n",
    "    lat = latlon[0]\n",
    "    lon = latlon[1]\n",
    "    latlonStr = str(lat) + ', ' + str(lon)\n",
    "    return latlonStr"
   ]
  },
  {
   "cell_type": "code",
   "execution_count": 63,
   "metadata": {},
   "outputs": [],
   "source": [
    "def getLocation():\n",
    "    g = geocoder.ip('me')\n",
    "    latlon = g.latlng\n",
    "    lat = latlon[0]\n",
    "    lon = latlon[1]\n",
    "    latlonStr = str(lat) + ', ' + str(lon)\n",
    "    return latlonStr\n",
    "\n",
    "entry = getLocation()"
   ]
  },
  {
   "cell_type": "code",
   "execution_count": 64,
   "metadata": {},
   "outputs": [
    {
     "output_type": "execute_result",
     "data": {
      "text/plain": [
       "54.5968"
      ]
     },
     "metadata": {},
     "execution_count": 64
    }
   ],
   "source": [
    "def tidyLocation():\n",
    "    global entry\n",
    "    entry = entry.replace(' ', '')\n",
    "    entry = entry.split(',')\n",
    "    lat = float(entry[0])\n",
    "    lon = float(entry[1])\n",
    "    return lat, \n",
    "\n",
    "tidyLocation()"
   ]
  },
  {
   "cell_type": "code",
   "execution_count": 26,
   "metadata": {},
   "outputs": [],
   "source": [
    "test = getLocation()"
   ]
  },
  {
   "cell_type": "code",
   "execution_count": 31,
   "metadata": {},
   "outputs": [],
   "source": [
    "test0 = test.replace(' ', '')"
   ]
  },
  {
   "cell_type": "code",
   "execution_count": 32,
   "metadata": {},
   "outputs": [],
   "source": [
    "test1 = test0.split(',')"
   ]
  },
  {
   "cell_type": "code",
   "execution_count": 33,
   "metadata": {},
   "outputs": [
    {
     "output_type": "execute_result",
     "data": {
      "text/plain": [
       "['54.5968', '-5.9254']"
      ]
     },
     "metadata": {},
     "execution_count": 33
    }
   ],
   "source": [
    "test1"
   ]
  },
  {
   "cell_type": "code",
   "execution_count": null,
   "metadata": {},
   "outputs": [],
   "source": []
  }
 ]
}